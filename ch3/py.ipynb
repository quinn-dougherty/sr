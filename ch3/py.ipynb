{
 "cells": [
  {
   "cell_type": "code",
   "execution_count": 1,
   "id": "funky-words",
   "metadata": {},
   "outputs": [],
   "source": [
    "import os\n",
    "\n",
    "import arviz as az\n",
    "import matplotlib.pyplot as plt\n",
    "import pandas as pd\n",
    "from scipy.stats import gaussian_kde\n",
    "\n",
    "import jax.numpy as jnp\n",
    "from jax import random, vmap\n",
    "\n",
    "import numpyro\n",
    "import numpyro.distributions as dist\n",
    "\n",
    "if \"SVG\" in os.environ:\n",
    "    %config InlineBackend.figure_formats = [\"svg\"]\n",
    "az.style.use(\"arviz-darkgrid\")\n"
   ]
  },
  {
   "cell_type": "code",
   "execution_count": 2,
   "id": "smooth-daisy",
   "metadata": {},
   "outputs": [],
   "source": [
    "p_grid = jnp.linspace(start=0, stop=1, num=1000)\n",
    "prior = jnp.repeat(1, 1000)\n",
    "likelihood = jnp.exp(dist.Binomial(total_count=9, probs=p_grid).log_prob(6))\n",
    "posterior = likelihood * prior\n",
    "posterior = posterior / jnp.sum(posterior)\n",
    "samples = p_grid[dist.Categorical(posterior).sample(random.PRNGKey(100), (10000,))]"
   ]
  },
  {
   "cell_type": "code",
   "execution_count": 16,
   "id": "environmental-terminology",
   "metadata": {},
   "outputs": [
    {
     "data": {
      "text/plain": [
       "DeviceArray(0.001, dtype=float32)"
      ]
     },
     "execution_count": 16,
     "metadata": {},
     "output_type": "execute_result"
    }
   ],
   "source": [
    "# 3E1\n",
    "(samples < .2).sum() / 1e4"
   ]
  },
  {
   "cell_type": "code",
   "execution_count": 17,
   "id": "considerable-hayes",
   "metadata": {},
   "outputs": [
    {
     "data": {
      "text/plain": [
       "DeviceArray(0.879, dtype=float32)"
      ]
     },
     "execution_count": 17,
     "metadata": {},
     "output_type": "execute_result"
    }
   ],
   "source": [
    "# 3E2\n",
    "(samples < 0.8).sum() / 1e4"
   ]
  },
  {
   "cell_type": "code",
   "execution_count": 21,
   "id": "indie-reservation",
   "metadata": {},
   "outputs": [
    {
     "data": {
      "text/plain": [
       "DeviceArray([1.e-04, 1.e-04, 1.e-04, ..., 1.e-04, 1.e-04, 1.e-04], dtype=float32)"
      ]
     },
     "execution_count": 21,
     "metadata": {},
     "output_type": "execute_result"
    }
   ],
   "source": [
    "# 3E3\n",
    "((0.2 < samples) & (samples < 0.8)) / 1e4"
   ]
  },
  {
   "cell_type": "code",
   "execution_count": 41,
   "id": "flying-nevada",
   "metadata": {},
   "outputs": [
    {
     "data": {
      "text/plain": [
       "DeviceArray(0.5195195, dtype=float32)"
      ]
     },
     "execution_count": 41,
     "metadata": {},
     "output_type": "execute_result"
    }
   ],
   "source": [
    "# 3E4 - 20% of the posterior probability lies below what value of p?\n",
    "def infer_bruteforce_lt(samples: type(samples), x: float, rtol: float = 1e-5) -> float: \n",
    "    \"\"\"x percent of posterior probability lies below what value of p?\"\"\"\n",
    "    answers = list()\n",
    "    for k in  jnp.linspace(start=0, stop=1, num=1000): \n",
    "        if jnp.isclose((samples < k).sum() / samples.shape[0], x, rtol=rtol): \n",
    "            answers.append(k)\n",
    "    if not answers: \n",
    "        raise ValueError(\"needs to be called with a more permissive tolerance for this data\")\n",
    "    return jnp.array(answers).mean()\n",
    "\n",
    "infer_bruteforce_lt(samples, 0.2, 1e-2)"
   ]
  },
  {
   "cell_type": "code",
   "execution_count": 43,
   "id": "coordinate-necessity",
   "metadata": {},
   "outputs": [
    {
     "data": {
      "text/plain": [
       "DeviceArray(0.7602603, dtype=float32)"
      ]
     },
     "execution_count": 43,
     "metadata": {},
     "output_type": "execute_result"
    }
   ],
   "source": [
    "# 3E5 - 20% of the posterior probability lies above what value of p?\n",
    "def infer_bruteforce_gt(samples: type(samples), x: float, rtol: float = 1e-5) -> float: \n",
    "    \"\"\"x percent of posterior probability lies below what value of p?\"\"\"\n",
    "    answers = list()\n",
    "    for k in  jnp.linspace(start=0, stop=1, num=1000): \n",
    "        if jnp.isclose((samples > k).sum() / samples.shape[0], x, rtol=rtol): \n",
    "            answers.append(k)\n",
    "    if not answers: \n",
    "        raise ValueError(\"needs to be called with a more permissive tolerance for this data\")\n",
    "    return jnp.array(answers).mean()\n",
    "\n",
    "infer_bruteforce_gt(samples, 0.2, 1e-2)"
   ]
  },
  {
   "cell_type": "code",
   "execution_count": null,
   "id": "ready-acrylic",
   "metadata": {},
   "outputs": [],
   "source": []
  },
  {
   "cell_type": "code",
   "execution_count": null,
   "id": "minute-article",
   "metadata": {},
   "outputs": [],
   "source": []
  },
  {
   "cell_type": "code",
   "execution_count": null,
   "id": "restricted-shanghai",
   "metadata": {},
   "outputs": [],
   "source": []
  },
  {
   "cell_type": "code",
   "execution_count": null,
   "id": "medium-success",
   "metadata": {},
   "outputs": [],
   "source": []
  }
 ],
 "metadata": {
  "kernelspec": {
   "display_name": "Python 3",
   "language": "python",
   "name": "python3"
  },
  "language_info": {
   "codemirror_mode": {
    "name": "ipython",
    "version": 3
   },
   "file_extension": ".py",
   "mimetype": "text/x-python",
   "name": "python",
   "nbconvert_exporter": "python",
   "pygments_lexer": "ipython3",
   "version": "3.9.2"
  }
 },
 "nbformat": 4,
 "nbformat_minor": 5
}
